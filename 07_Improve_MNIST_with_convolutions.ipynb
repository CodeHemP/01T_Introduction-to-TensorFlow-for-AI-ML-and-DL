{
  "nbformat": 4,
  "nbformat_minor": 0,
  "metadata": {
    "coursera": {
      "course_slug": "introduction-tensorflow",
      "graded_item_id": "ml06H",
      "launcher_item_id": "hQF8A"
    },
    "kernelspec": {
      "display_name": "Python 3",
      "language": "python",
      "name": "python3"
    },
    "language_info": {
      "codemirror_mode": {
        "name": "ipython",
        "version": 3
      },
      "file_extension": ".py",
      "mimetype": "text/x-python",
      "name": "python",
      "nbconvert_exporter": "python",
      "pygments_lexer": "ipython3",
      "version": "3.6.8"
    },
    "colab": {
      "name": "07_Improve_MNIST_with_convolutions.ipynb",
      "provenance": [],
      "collapsed_sections": [],
      "toc_visible": true,
      "include_colab_link": true
    },
    "accelerator": "GPU"
  },
  "cells": [
    {
      "cell_type": "markdown",
      "metadata": {
        "id": "view-in-github",
        "colab_type": "text"
      },
      "source": [
        "<a href=\"https://colab.research.google.com/github/mohd-faizy/03_TensorFlow_In-Practice/blob/master/07_Improve_MNIST_with_convolutions.ipynb\" target=\"_parent\"><img src=\"https://colab.research.google.com/assets/colab-badge.svg\" alt=\"Open In Colab\"/></a>"
      ]
    },
    {
      "cell_type": "markdown",
      "metadata": {
        "colab_type": "text",
        "id": "iQjHqsmTAVLU"
      },
      "source": [
        "## Exercise 3\n",
        "In the videos you looked at how you would improve Fashion MNIST using Convolutions. For your exercise see if you can improve MNIST to 99.8% accuracy or more using only a single convolutional layer and a single MaxPooling 2D. You should stop training once the accuracy goes above this amount. It should happen in less than 20 epochs, so it's ok to hard code the number of epochs for training, but your training must end once it hits the above metric. If it doesn't, then you'll need to redesign your layers.\n",
        "\n",
        "I've started the code for you -- you need to finish it!\n",
        "\n",
        "When 99.8% accuracy has been hit, you should print out the string \"Reached 99.8% accuracy so cancelling training!\"\n"
      ]
    },
    {
      "cell_type": "code",
      "metadata": {
        "id": "lAericODPEQR",
        "colab_type": "code",
        "colab": {
          "base_uri": "https://localhost:8080/",
          "height": 212
        },
        "outputId": "73f5a789-02df-42f5-ada6-37d31d509128"
      },
      "source": [
        "!wget https://s3.amazonaws.com/img-datasets/mnist.npz"
      ],
      "execution_count": null,
      "outputs": [
        {
          "output_type": "stream",
          "text": [
            "--2020-07-06 22:28:28--  https://s3.amazonaws.com/img-datasets/mnist.npz\n",
            "Resolving s3.amazonaws.com (s3.amazonaws.com)... 52.216.113.157\n",
            "Connecting to s3.amazonaws.com (s3.amazonaws.com)|52.216.113.157|:443... connected.\n",
            "HTTP request sent, awaiting response... 200 OK\n",
            "Length: 11490434 (11M) [application/octet-stream]\n",
            "Saving to: ‘mnist.npz’\n",
            "\n",
            "\rmnist.npz             0%[                    ]       0  --.-KB/s               \rmnist.npz             2%[                    ] 245.63K  1005KB/s               \rmnist.npz            34%[=====>              ]   3.81M  7.80MB/s               \rmnist.npz           100%[===================>]  10.96M  17.7MB/s    in 0.6s    \n",
            "\n",
            "2020-07-06 22:28:29 (17.7 MB/s) - ‘mnist.npz’ saved [11490434/11490434]\n",
            "\n"
          ],
          "name": "stdout"
        }
      ]
    },
    {
      "cell_type": "code",
      "metadata": {
        "id": "Pzc-42FaPG3W",
        "colab_type": "code",
        "colab": {}
      },
      "source": [
        "# Changing the working directory\n",
        "import os\n",
        "os.chdir('/content/sample_data')"
      ],
      "execution_count": null,
      "outputs": []
    },
    {
      "cell_type": "code",
      "metadata": {
        "id": "0rNe0oOlOZpM",
        "colab_type": "code",
        "colab": {}
      },
      "source": [
        "import tensorflow as tf\n",
        "from os import path, getcwd, chdir\n",
        "\n",
        "\n",
        "#path = f\"{getcwd()}/../tmp2/mnist.npz\""
      ],
      "execution_count": null,
      "outputs": []
    },
    {
      "cell_type": "code",
      "metadata": {
        "id": "axR6MnH2OZpU",
        "colab_type": "code",
        "colab": {
          "base_uri": "https://localhost:8080/",
          "height": 90
        },
        "outputId": "2885a7f6-7cc3-4ded-edf2-3faeeee9686f"
      },
      "source": [
        "import tensorflow.compat.v1 as tf  # Line 1, 2 code is added to avoide the error\n",
        "tf.disable_v2_behavior()\n",
        "\n",
        "config = tf.ConfigProto()\n",
        "config.gpu_options.allow_growth = True\n",
        "sess = tf.Session(config=config)"
      ],
      "execution_count": null,
      "outputs": [
        {
          "output_type": "stream",
          "text": [
            "WARNING:tensorflow:From /usr/local/lib/python3.6/dist-packages/tensorflow/python/compat/v2_compat.py:96: disable_resource_variables (from tensorflow.python.ops.variable_scope) is deprecated and will be removed in a future version.\n",
            "Instructions for updating:\n",
            "non-resource variables are not supported in the long term\n"
          ],
          "name": "stdout"
        }
      ]
    },
    {
      "cell_type": "markdown",
      "metadata": {
        "id": "1v4TiG9NRB3Q",
        "colab_type": "text"
      },
      "source": [
        " $\\color{red}{\\textbf{Error:}}$\n",
        " \n",
        "- [__AttributeError:__ `module 'tensorflow' has no attribute 'ConfigProto'`](https://stackoverflow.com/questions/56127592/attributeerror-module-tensorflow-has-no-attribute-configproto)\n",
        "\n",
        "- [__Module 'tensorflow' has no attribute 'contrib'__](https://stackoverflow.com/questions/55870127/module-tensorflow-has-no-attribute-contrib)"
      ]
    },
    {
      "cell_type": "markdown",
      "metadata": {
        "id": "EO4krJFvQqWy",
        "colab_type": "text"
      },
      "source": [
        " $\\color{red}{\\textbf{Tensorflow-Upgrade}}$\n",
        "\n",
        "> - [__Migrate your TensorFlow 1 code to TensorFlow 2__](https://www.tensorflow.org/guide/migrate)\n",
        "- [__Automatically upgrade code to TensorFlow 2__](https://www.tensorflow.org/guide/upgrade)\n"
      ]
    },
    {
      "cell_type": "code",
      "metadata": {
        "id": "ctl2Y-54OZpY",
        "colab_type": "code",
        "colab": {}
      },
      "source": [
        "# GRADED FUNCTION: train_mnist_conv\n",
        "def train_mnist_conv():\n",
        "    # Please write your code only where you are indicated.\n",
        "    # please do not remove model fitting inline comments.\n",
        "\n",
        "    # YOUR CODE STARTS HERE\n",
        "    class StopTrainingCallback(tf.keras.callbacks.Callback):\n",
        "        def on_epoch_end(self, epoch, logs={}):\n",
        "            if (logs.get('acc') >= 0.998):\n",
        "                print('\\nReached 99.8% accuracy!')\n",
        "                self.model.stop_training = True\n",
        "                \n",
        "    callbacks = StopTrainingCallback()\n",
        "    # YOUR CODE ENDS HERE\n",
        "\n",
        "    mnist = tf.keras.datasets.mnist\n",
        "    (training_images, training_labels), (test_images, test_labels) = mnist.load_data(path='/content/sample_data/mnist.npz')\n",
        "    # YOUR CODE STARTS HERE\n",
        "    training_images = training_images.reshape([60000, 28, 28, 1])\n",
        "    training_images = training_images / 255.0;\n",
        "    test_images = test_images.reshape([10000, 28, 28, 1])\n",
        "    test_images = test_images / 255.0;\n",
        "    # YOUR CODE ENDS HERE\n",
        "\n",
        "    model = tf.keras.models.Sequential([\n",
        "        tf.keras.layers.Conv2D(64, (3,3), activation='relu', input_shape=(28, 28, 1)),\n",
        "        tf.keras.layers.MaxPooling2D(2, 2),\n",
        "        tf.keras.layers.Conv2D(64, (3,3), activation='relu'),\n",
        "        tf.keras.layers.MaxPooling2D(2, 2),\n",
        "        tf.keras.layers.Flatten(),\n",
        "        tf.keras.layers.Dense(128, activation='relu'),\n",
        "        tf.keras.layers.Dense(10, activation='softmax')\n",
        "    ])\n",
        "\n",
        "    model.compile(optimizer='adam', loss='sparse_categorical_crossentropy', metrics=['accuracy'])\n",
        "    # model fitting\n",
        "    history = model.fit(training_images, training_labels, epochs = 15, callbacks = [callbacks])\n",
        "    test_loss = model.evaluate(test_images, test_labels)\n",
        "    # model fitting\n",
        "    return history.epoch, history.history['acc'][-1]"
      ],
      "execution_count": null,
      "outputs": []
    },
    {
      "cell_type": "code",
      "metadata": {
        "id": "9GXXgxU0OZpc",
        "colab_type": "code",
        "colab": {
          "base_uri": "https://localhost:8080/",
          "height": 498
        },
        "outputId": "f07c87fa-b981-4fa7-f99a-e6184268a62b"
      },
      "source": [
        "training_images, training_labels = train_mnist_conv()"
      ],
      "execution_count": null,
      "outputs": [
        {
          "output_type": "stream",
          "text": [
            "Downloading data from https://storage.googleapis.com/tensorflow/tf-keras-datasets/mnist.npz\n",
            "11493376/11490434 [==============================] - 0s 0us/step\n",
            "WARNING:tensorflow:From /usr/local/lib/python3.6/dist-packages/tensorflow/python/ops/resource_variable_ops.py:1666: calling BaseResourceVariable.__init__ (from tensorflow.python.ops.resource_variable_ops) with constraint is deprecated and will be removed in a future version.\n",
            "Instructions for updating:\n",
            "If using Keras pass *_constraint arguments to layers.\n",
            "Train on 60000 samples\n",
            "Epoch 1/15\n",
            "60000/60000 [==============================] - 5s 77us/sample - loss: 0.1217 - acc: 0.9627\n",
            "Epoch 2/15\n",
            "60000/60000 [==============================] - 5s 77us/sample - loss: 0.0415 - acc: 0.9872\n",
            "Epoch 3/15\n",
            "60000/60000 [==============================] - 5s 77us/sample - loss: 0.0270 - acc: 0.9913\n",
            "Epoch 4/15\n",
            "60000/60000 [==============================] - 5s 77us/sample - loss: 0.0198 - acc: 0.9936\n",
            "Epoch 5/15\n",
            "60000/60000 [==============================] - 5s 77us/sample - loss: 0.0142 - acc: 0.9954\n",
            "Epoch 6/15\n",
            "60000/60000 [==============================] - 5s 78us/sample - loss: 0.0108 - acc: 0.9963\n",
            "Epoch 7/15\n",
            "60000/60000 [==============================] - 5s 77us/sample - loss: 0.0092 - acc: 0.9970\n",
            "Epoch 8/15\n",
            "60000/60000 [==============================] - 5s 77us/sample - loss: 0.0084 - acc: 0.9972\n",
            "Epoch 9/15\n",
            "59904/60000 [============================>.] - ETA: 0s - loss: 0.0058 - acc: 0.9980\n",
            "Reached 99.8% accuracy!\n",
            "60000/60000 [==============================] - 5s 77us/sample - loss: 0.0058 - acc: 0.9980\n"
          ],
          "name": "stdout"
        }
      ]
    }
  ]
}