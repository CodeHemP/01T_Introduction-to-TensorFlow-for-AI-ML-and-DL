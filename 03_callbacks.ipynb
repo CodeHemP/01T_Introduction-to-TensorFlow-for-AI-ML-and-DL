{
  "nbformat": 4,
  "nbformat_minor": 0,
  "metadata": {
    "colab": {
      "name": "03_callbacks.ipynb",
      "provenance": [],
      "collapsed_sections": [],
      "toc_visible": true,
      "include_colab_link": true
    },
    "kernelspec": {
      "display_name": "Python 3",
      "language": "python",
      "name": "python3"
    },
    "language_info": {
      "codemirror_mode": {
        "name": "ipython",
        "version": 3
      },
      "file_extension": ".py",
      "mimetype": "text/x-python",
      "name": "python",
      "nbconvert_exporter": "python",
      "pygments_lexer": "ipython3",
      "version": "3.7.5rc1"
    }
  },
  "cells": [
    {
      "cell_type": "markdown",
      "metadata": {
        "id": "view-in-github",
        "colab_type": "text"
      },
      "source": [
        "<a href=\"https://colab.research.google.com/github/mohd-faizy/03_TensorFlow_In-Practice/blob/master/03_callbacks.ipynb\" target=\"_parent\"><img src=\"https://colab.research.google.com/assets/colab-badge.svg\" alt=\"Open In Colab\"/></a>"
      ]
    },
    {
      "cell_type": "markdown",
      "metadata": {
        "id": "U53GxgYV2q6w",
        "colab_type": "text"
      },
      "source": [
        "# __Callbacks API__\n",
        "\n",
        "A __callback__ is an object that can perform actions at various stages of training (e.g. at the start or end of an epoch, before or after a single batch, etc).\n",
        "\n",
        "_You can use callbacks to:_\n",
        "\n",
        "- Write TensorBoard logs after every batch of training to monitor your metrics.\n",
        "- Periodically save your model to disk.\n",
        "- Do early stopping.\n",
        "- Get a view on internal states and statistics of a model during training...and more\n"
      ]
    },
    {
      "cell_type": "markdown",
      "metadata": {
        "id": "TW5Gxzg23E4j",
        "colab_type": "text"
      },
      "source": [
        "## __Usage of callbacks via the built-in `fit()` loop__\n",
        "\n",
        "You can pass a list of callbacks (as the keyword argument callbacks) to the `.fit()` method of a model:\n",
        "\n",
        "```\n",
        "my_callbacks = [\n",
        "    tf.keras.callbacks.EarlyStopping(patience=2),\n",
        "    tf.keras.callbacks.ModelCheckpoint(filepath='model.{epoch:02d}-{val_loss:.2f}.h5'),\n",
        "    tf.keras.callbacks.TensorBoard(log_dir='./logs'),\n",
        "]\n",
        "model.fit(dataset, epochs=10, callbacks=my_callbacks)\n",
        "\n",
        "```\n",
        "The relevant methods of the callbacks will then be called at each stage of the training."
      ]
    },
    {
      "cell_type": "markdown",
      "metadata": {
        "id": "83z8aOwj3bh6",
        "colab_type": "text"
      },
      "source": [
        "__Using custom callbacks__\n",
        "\n",
        "Creating new callbacks is a simple and powerful way to customize a training loop. Learn more about creating new callbacks in the guide [__Writing your own Callbacks__](https://keras.io/guides/writing_your_own_callbacks/), and refer to the documentation for the [__base Callback class__](https://keras.io/api/callbacks/base_callback/)."
      ]
    },
    {
      "cell_type": "markdown",
      "metadata": {
        "id": "DgQzHMD34IR_",
        "colab_type": "text"
      },
      "source": [
        "__Available callbacks__\n",
        "\n",
        "```\n",
        "- Base Callback class\n",
        "- ModelCheckpoint\n",
        "- TensorBoard\n",
        "- EarlyStopping\n",
        "- LearningRateScheduler\n",
        "- ReduceLROnPlateau\n",
        "- RemoteMonitor\n",
        "- LambdaCallback\n",
        "- TerminateOnNaN\n",
        "- CSVLogger\n",
        "- ProgbarLogger\n",
        "```"
      ]
    },
    {
      "cell_type": "markdown",
      "metadata": {
        "id": "tCKvGY1k4pGE",
        "colab_type": "text"
      },
      "source": [
        "> [__Writing your own callbacks__](https://www.tensorflow.org/guide/keras/custom_callback)"
      ]
    },
    {
      "cell_type": "code",
      "metadata": {
        "colab_type": "code",
        "id": "N9-BCmi15L93",
        "colab": {
          "base_uri": "https://localhost:8080/",
          "height": 238
        },
        "outputId": "00bc2b09-d67b-4893-f865-ebc8ed5b0932"
      },
      "source": [
        "import tensorflow as tf\n",
        "\n",
        "# Defining the callback class\n",
        "class myCallback(tf.keras.callbacks.Callback):\n",
        "  def on_epoch_end(self, epoch, logs={}):\n",
        "    if(logs.get('accuracy')>0.6):\n",
        "      print(\"\\nReached 60% accuracy so cancelling training!\")\n",
        "      self.model.stop_training = True\n",
        "\n",
        "mnist = tf.keras.datasets.fashion_mnist\n",
        "\n",
        "(x_train, y_train),(x_test, y_test) = mnist.load_data()\n",
        "x_train, x_test = x_train / 255.0, x_test / 255.0\n",
        "\n",
        "callbacks = myCallback()\n",
        "\n",
        "model = tf.keras.models.Sequential([\n",
        "  tf.keras.layers.Flatten(input_shape=(28, 28)),\n",
        "  tf.keras.layers.Dense(512, activation=tf.nn.relu),\n",
        "  tf.keras.layers.Dense(10, activation=tf.nn.softmax)\n",
        "])\n",
        "model.compile(optimizer=tf.optimizers.Adam(),\n",
        "              loss='sparse_categorical_crossentropy',\n",
        "              metrics=['accuracy'])\n",
        "\n",
        "model.fit(x_train, y_train, epochs=10, callbacks=[callbacks])"
      ],
      "execution_count": null,
      "outputs": [
        {
          "output_type": "stream",
          "text": [
            "Downloading data from https://storage.googleapis.com/tensorflow/tf-keras-datasets/train-labels-idx1-ubyte.gz\n",
            "32768/29515 [=================================] - 0s 0us/step\n",
            "Downloading data from https://storage.googleapis.com/tensorflow/tf-keras-datasets/train-images-idx3-ubyte.gz\n",
            "26427392/26421880 [==============================] - 0s 0us/step\n",
            "Downloading data from https://storage.googleapis.com/tensorflow/tf-keras-datasets/t10k-labels-idx1-ubyte.gz\n",
            "8192/5148 [===============================================] - 0s 0us/step\n",
            "Downloading data from https://storage.googleapis.com/tensorflow/tf-keras-datasets/t10k-images-idx3-ubyte.gz\n",
            "4423680/4422102 [==============================] - 0s 0us/step\n",
            "Epoch 1/10\n",
            "1866/1875 [============================>.] - ETA: 0s - loss: 0.4722 - accuracy: 0.8303\n",
            "Reached 60% accuracy so cancelling training!\n",
            "1875/1875 [==============================] - 7s 4ms/step - loss: 0.4723 - accuracy: 0.8302\n"
          ],
          "name": "stdout"
        },
        {
          "output_type": "execute_result",
          "data": {
            "text/plain": [
              "<tensorflow.python.keras.callbacks.History at 0x7fbb0ea4a8d0>"
            ]
          },
          "metadata": {
            "tags": []
          },
          "execution_count": 1
        }
      ]
    }
  ]
}