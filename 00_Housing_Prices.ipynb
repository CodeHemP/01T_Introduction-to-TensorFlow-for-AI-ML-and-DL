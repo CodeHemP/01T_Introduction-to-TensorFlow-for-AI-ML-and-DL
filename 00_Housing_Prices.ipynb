{
  "nbformat": 4,
  "nbformat_minor": 0,
  "metadata": {
    "colab": {
      "name": "00_Housing_Prices.ipynb",
      "provenance": [],
      "collapsed_sections": [],
      "include_colab_link": true
    },
    "kernelspec": {
      "name": "python3",
      "display_name": "Python 3"
    },
    "accelerator": "GPU"
  },
  "cells": [
    {
      "cell_type": "markdown",
      "metadata": {
        "id": "view-in-github",
        "colab_type": "text"
      },
      "source": [
        "<a href=\"https://colab.research.google.com/github/mohd-faizy/03_TensorFlow_In-Practice/blob/master/00_Housing_Prices.ipynb\" target=\"_parent\"><img src=\"https://colab.research.google.com/assets/colab-badge.svg\" alt=\"Open In Colab\"/></a>"
      ]
    },
    {
      "cell_type": "markdown",
      "metadata": {
        "id": "mw2VBrBcgvGa",
        "colab_type": "text"
      },
      "source": [
        "__In this exercise you'll try to build a neural network that predicts the price of a house according to a simple formula.__\n",
        "\n",
        "* So, imagine if house pricing was as easy as a house costs 50k , + 50k per bedroom, so that a 1 bedroom house costs 100k, a 2 bedroom house costs 150k etc.\n",
        "\n",
        "* How would you create a neural network that learns this relationship so that it would predict a 7 bedroom house as costing close to 400k etc.\n",
        "\n",
        "> __Hint:__ Your network might work better if you scale the house price down. You don't have to give the answer 400...it might be better to create something that predicts the number 4, and then your answer is in the 'hundreds of thousands' etc."
      ]
    },
    {
      "cell_type": "code",
      "metadata": {
        "id": "PUNO2E6SeURH",
        "colab_type": "code",
        "colab": {}
      },
      "source": [
        "# Importing the lib\n",
        "import tensorflow as tf\n",
        "import numpy as np\n",
        "from tensorflow import keras\n",
        "\n",
        "# Defining the model\n",
        "model = tf.keras.Sequential([keras.layers.Dense(units=1, input_shape=[1])])\n",
        "model.compile(optimizer='sgd', loss='mean_squared_error')\n",
        "\n",
        "# Numpy array of --  Number of beddroom per house\n",
        "xs = np.array([1.0, 2.0, 3.0, 4.0, 5.0, 6.0], dtype=float)  \n",
        "# Numpy array of -- cost of house \n",
        "ys = np.array([1.0, 1.5, 2.0, 2.5, 3.0, 3.5], dtype=float)  \n",
        "\n",
        "# training\n",
        "model.fit(xs, ys, epochs=500)"
      ],
      "execution_count": null,
      "outputs": []
    },
    {
      "cell_type": "markdown",
      "metadata": {
        "id": "yTJlAWY4HH1E",
        "colab_type": "text"
      },
      "source": [
        "__The Cost of 7 bedroom house should be close to 400k ~ 4.0__"
      ]
    },
    {
      "cell_type": "code",
      "metadata": {
        "id": "qbkFCj2QCjjV",
        "colab_type": "code",
        "colab": {
          "base_uri": "https://localhost:8080/",
          "height": 50
        },
        "outputId": "51c4a958-6c4a-4750-a6a3-4c6a97406f13"
      },
      "source": [
        "print(model.predict([7.0]))\n",
        "print(model.predict([10.0]))"
      ],
      "execution_count": 2,
      "outputs": [
        {
          "output_type": "stream",
          "text": [
            "[[4.0217876]]\n",
            "[[5.545829]]\n"
          ],
          "name": "stdout"
        }
      ]
    },
    {
      "cell_type": "markdown",
      "metadata": {
        "id": "SE1YmFcf_vp4",
        "colab_type": "text"
      },
      "source": [
        "- [__The Sequential model__](https://www.tensorflow.org/guide/keras/sequential_model#setup)\n",
        "\n"
      ]
    }
  ]
}